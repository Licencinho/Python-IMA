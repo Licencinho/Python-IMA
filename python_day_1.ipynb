{
 "cells": [
  {
   "cell_type": "markdown",
   "id": "210a60ee",
   "metadata": {},
   "source": [
    "# Exercise 1\n",
    "\n",
    "Write a function that will take in a string parameter and return a string in its\n",
    "equivalent Morse code."
   ]
  },
  {
   "cell_type": "markdown",
   "id": "7602ac55",
   "metadata": {},
   "source": [
    "### 1. Install a library that already handles morse code translation"
   ]
  },
  {
   "cell_type": "code",
   "execution_count": 91,
   "id": "717d03e0",
   "metadata": {},
   "outputs": [
    {
     "name": "stdout",
     "output_type": "stream",
     "text": [
      "Requirement already satisfied: morse-talk in c:\\users\\alons\\anaconda3\\lib\\site-packages (0.2)\n",
      "Note: you may need to restart the kernel to use updated packages.\n"
     ]
    }
   ],
   "source": [
    "pip install morse-talk"
   ]
  },
  {
   "cell_type": "markdown",
   "id": "c29ae29f",
   "metadata": {},
   "source": [
    "### 2. Import the module to use it"
   ]
  },
  {
   "cell_type": "code",
   "execution_count": 92,
   "id": "c6df7ab0",
   "metadata": {},
   "outputs": [],
   "source": [
    "import morse_talk as morse"
   ]
  },
  {
   "cell_type": "markdown",
   "id": "1cc7c4eb",
   "metadata": {},
   "source": [
    "### 3. Define a function that uses the libraries capabilities"
   ]
  },
  {
   "cell_type": "code",
   "execution_count": 93,
   "id": "801a2bf2",
   "metadata": {},
   "outputs": [],
   "source": [
    "def translate_english_to_morse(text):\n",
    "    translated_text = morse.encode(text)\n",
    "    return translated_text"
   ]
  },
  {
   "cell_type": "markdown",
   "id": "03cea64d",
   "metadata": {},
   "source": [
    "### 4. Ask user for a word to translate"
   ]
  },
  {
   "cell_type": "code",
   "execution_count": 94,
   "id": "72d86226",
   "metadata": {},
   "outputs": [
    {
     "name": "stdout",
     "output_type": "stream",
     "text": [
      "Please input a text to translate to Morse: Hello World\n"
     ]
    }
   ],
   "source": [
    "text_to_translate = input(\"Please input a text to translate to Morse: \")"
   ]
  },
  {
   "cell_type": "markdown",
   "id": "c9ce5d7f",
   "metadata": {},
   "source": [
    "### 5. Translate and show the user the translated text"
   ]
  },
  {
   "cell_type": "code",
   "execution_count": 95,
   "id": "b8db36e8",
   "metadata": {},
   "outputs": [
    {
     "name": "stdout",
     "output_type": "stream",
     "text": [
      "Your text in Morse is: ....   .   .-..   .-..   ---       .--   ---   .-.   .-..   -..\n"
     ]
    }
   ],
   "source": [
    "translation = translate_english_to_morse(text_to_translate)\n",
    "print(\"Your text in Morse is: \"+translation)"
   ]
  },
  {
   "cell_type": "markdown",
   "id": "2045d2ac",
   "metadata": {},
   "source": [
    "# Exercise 2\n",
    "\n",
    "Write a function that takes in a string parameter and returns a list and a count\n",
    "of the unique letters in the string. (Uppercase and lowercase letters should not\n",
    "be counted as different letters and symbols should be ignored.)"
   ]
  },
  {
   "cell_type": "markdown",
   "id": "656bd6e0",
   "metadata": {},
   "source": [
    "### 1. Define the function"
   ]
  },
  {
   "cell_type": "code",
   "execution_count": 96,
   "id": "670dd355",
   "metadata": {},
   "outputs": [],
   "source": [
    "def unique_letters(text):\n",
    "    text = text.upper()\n",
    "    unique_list = []\n",
    "    for char in enumerate(text):\n",
    "        if (char[1] in unique_list or not char[1].isalpha()):\n",
    "            continue\n",
    "        else:\n",
    "            unique_list.append(char[1])\n",
    "    return (unique_list, len(unique_list))"
   ]
  },
  {
   "cell_type": "markdown",
   "id": "e0305d1d",
   "metadata": {},
   "source": [
    "### 2. Ask the user for a phrase to analyze"
   ]
  },
  {
   "cell_type": "code",
   "execution_count": 99,
   "id": "937f7164",
   "metadata": {},
   "outputs": [
    {
     "name": "stdout",
     "output_type": "stream",
     "text": [
      "Please input a phrase so we can count the unique words: !!!\n"
     ]
    }
   ],
   "source": [
    "phrase = input(\"Please input a phrase so we can count the unique words: \")"
   ]
  },
  {
   "cell_type": "markdown",
   "id": "f9e3acbf",
   "metadata": {},
   "source": [
    "### 3. Use the function and return the results"
   ]
  },
  {
   "cell_type": "code",
   "execution_count": 100,
   "id": "b3553fb6",
   "metadata": {},
   "outputs": [
    {
     "name": "stdout",
     "output_type": "stream",
     "text": [
      "The unique letters of your phrase are: \n",
      "[]\n",
      "Your phrase has 0 unique letters\n"
     ]
    }
   ],
   "source": [
    "user_unique_letters = unique_letters(phrase)\n",
    "print(\"The unique letters of your phrase are: \")\n",
    "print(user_unique_letters[0])\n",
    "print(\"Your phrase has \"+str(user_unique_letters[1])+\" unique letters\")"
   ]
  },
  {
   "cell_type": "code",
   "execution_count": null,
   "id": "997178d4",
   "metadata": {},
   "outputs": [],
   "source": []
  }
 ],
 "metadata": {
  "kernelspec": {
   "display_name": "Python 3",
   "language": "python",
   "name": "python3"
  },
  "language_info": {
   "codemirror_mode": {
    "name": "ipython",
    "version": 3
   },
   "file_extension": ".py",
   "mimetype": "text/x-python",
   "name": "python",
   "nbconvert_exporter": "python",
   "pygments_lexer": "ipython3",
   "version": "3.8.8"
  }
 },
 "nbformat": 4,
 "nbformat_minor": 5
}
