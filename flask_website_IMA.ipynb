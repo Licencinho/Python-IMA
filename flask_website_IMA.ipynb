{
 "cells": [
  {
   "cell_type": "code",
   "execution_count": 7,
   "id": "196e3e3c",
   "metadata": {},
   "outputs": [
    {
     "name": "stdout",
     "output_type": "stream",
     "text": [
      "Requirement already satisfied: flask-ngrok in c:\\users\\alons\\anaconda3\\lib\\site-packages (0.0.25)\n",
      "Requirement already satisfied: requests in c:\\users\\alons\\anaconda3\\lib\\site-packages (from flask-ngrok) (2.25.1)\n",
      "Requirement already satisfied: Flask>=0.8 in c:\\users\\alons\\anaconda3\\lib\\site-packages (from flask-ngrok) (1.1.2)\n",
      "Requirement already satisfied: itsdangerous>=0.24 in c:\\users\\alons\\anaconda3\\lib\\site-packages (from Flask>=0.8->flask-ngrok) (1.1.0)\n",
      "Requirement already satisfied: Werkzeug>=0.15 in c:\\users\\alons\\anaconda3\\lib\\site-packages (from Flask>=0.8->flask-ngrok) (1.0.1)\n",
      "Requirement already satisfied: click>=5.1 in c:\\users\\alons\\anaconda3\\lib\\site-packages (from Flask>=0.8->flask-ngrok) (7.1.2)\n",
      "Requirement already satisfied: Jinja2>=2.10.1 in c:\\users\\alons\\anaconda3\\lib\\site-packages (from Flask>=0.8->flask-ngrok) (2.11.3)\n",
      "Requirement already satisfied: MarkupSafe>=0.23 in c:\\users\\alons\\anaconda3\\lib\\site-packages (from Jinja2>=2.10.1->Flask>=0.8->flask-ngrok) (1.1.1)\n",
      "Requirement already satisfied: urllib3<1.27,>=1.21.1 in c:\\users\\alons\\anaconda3\\lib\\site-packages (from requests->flask-ngrok) (1.26.4)\n",
      "Requirement already satisfied: idna<3,>=2.5 in c:\\users\\alons\\anaconda3\\lib\\site-packages (from requests->flask-ngrok) (2.10)\n",
      "Requirement already satisfied: certifi>=2017.4.17 in c:\\users\\alons\\anaconda3\\lib\\site-packages (from requests->flask-ngrok) (2020.12.5)\n",
      "Requirement already satisfied: chardet<5,>=3.0.2 in c:\\users\\alons\\anaconda3\\lib\\site-packages (from requests->flask-ngrok) (4.0.0)\n",
      "Requirement already satisfied: pyngrok in c:\\users\\alons\\anaconda3\\lib\\site-packages (5.1.0)\n",
      "Requirement already satisfied: PyYAML in c:\\users\\alons\\anaconda3\\lib\\site-packages (from pyngrok) (5.4.1)\n",
      "Collecting flask-wtf\n",
      "  Downloading Flask_WTF-1.0.0-py3-none-any.whl (12 kB)\n",
      "Requirement already satisfied: Flask in c:\\users\\alons\\anaconda3\\lib\\site-packages (from flask-wtf) (1.1.2)\n",
      "Requirement already satisfied: itsdangerous in c:\\users\\alons\\anaconda3\\lib\\site-packages (from flask-wtf) (1.1.0)\n",
      "Collecting WTForms\n",
      "  Downloading WTForms-3.0.1-py3-none-any.whl (136 kB)\n",
      "Requirement already satisfied: Werkzeug>=0.15 in c:\\users\\alons\\anaconda3\\lib\\site-packages (from Flask->flask-wtf) (1.0.1)\n",
      "Requirement already satisfied: click>=5.1 in c:\\users\\alons\\anaconda3\\lib\\site-packages (from Flask->flask-wtf) (7.1.2)\n",
      "Requirement already satisfied: Jinja2>=2.10.1 in c:\\users\\alons\\anaconda3\\lib\\site-packages (from Flask->flask-wtf) (2.11.3)\n",
      "Requirement already satisfied: MarkupSafe>=0.23 in c:\\users\\alons\\anaconda3\\lib\\site-packages (from Jinja2>=2.10.1->Flask->flask-wtf) (1.1.1)\n",
      "Installing collected packages: WTForms, flask-wtf\n",
      "Successfully installed WTForms-3.0.1 flask-wtf-1.0.0\n"
     ]
    }
   ],
   "source": [
    "!pip install flask-ngrok\n",
    "!pip install pyngrok\n",
    "!pip install flask-wtf"
   ]
  },
  {
   "cell_type": "code",
   "execution_count": 8,
   "id": "4f14298c",
   "metadata": {},
   "outputs": [
    {
     "name": "stdout",
     "output_type": "stream",
     "text": [
      "Authtoken saved to configuration file: C:\\Users\\alons/.ngrok2/ngrok.yml\n"
     ]
    }
   ],
   "source": [
    "!ngrok authtoken \"26BvbMOktqjiQ2Ibfb05r7jzTcL_4UJaagneSjXiB6qeUZXzT\""
   ]
  },
  {
   "cell_type": "code",
   "execution_count": 9,
   "id": "7b33146e",
   "metadata": {},
   "outputs": [
    {
     "name": "stderr",
     "output_type": "stream",
     "text": [
      "\"git\" no se reconoce como un comando interno o externo,\n",
      "programa o archivo por lotes ejecutable.\n"
     ]
    }
   ],
   "source": [
    "!git clone \"https://github.com/Licencinho/Python-IMA\""
   ]
  },
  {
   "cell_type": "code",
   "execution_count": 10,
   "id": "754e7726",
   "metadata": {},
   "outputs": [],
   "source": [
    "import os\n",
    "os.chdir(\"/\")"
   ]
  },
  {
   "cell_type": "code",
   "execution_count": 5,
   "id": "b256c725",
   "metadata": {},
   "outputs": [
    {
     "name": "stdout",
     "output_type": "stream",
     "text": [
      " * Serving Flask app \"__main__\" (lazy loading)\n",
      " * Environment: production\n",
      "   WARNING: This is a development server. Do not use it in a production deployment.\n",
      "   Use a production WSGI server instead.\n",
      " * Debug mode: off\n"
     ]
    },
    {
     "name": "stderr",
     "output_type": "stream",
     "text": [
      " * Running on http://127.0.0.1:5000/ (Press CTRL+C to quit)\n"
     ]
    }
   ],
   "source": [
    "from flask import *\n",
    "from flask_ngrok import run_with_ngrok\n",
    "\n",
    "app = Flask(__name__)\n",
    "\n",
    "app_data = {\n",
    "    \"name\":         \"Peter's Starter Template for a Flask Web App\",\n",
    "    \"description\":  \"A basic Flask app using bootstrap for layout\",\n",
    "    \"author\":       \"Peter Simeth\",\n",
    "    \"html_title\":   \"Peter's Starter Template for a Flask Web App\",\n",
    "    \"project_name\": \"Starter Template\",\n",
    "    \"keywords\":     \"flask, webapp, template, basic\"\n",
    "}\n",
    "\n",
    "\n",
    "@app.route('/')\n",
    "def index():\n",
    "    return render_template('index.html', app_data=app_data)\n",
    "\n",
    "run_with_ngrok(app)\n",
    "app.run()"
   ]
  },
  {
   "cell_type": "code",
   "execution_count": null,
   "id": "30907688",
   "metadata": {},
   "outputs": [],
   "source": []
  }
 ],
 "metadata": {
  "kernelspec": {
   "display_name": "Python 3",
   "language": "python",
   "name": "python3"
  },
  "language_info": {
   "codemirror_mode": {
    "name": "ipython",
    "version": 3
   },
   "file_extension": ".py",
   "mimetype": "text/x-python",
   "name": "python",
   "nbconvert_exporter": "python",
   "pygments_lexer": "ipython3",
   "version": "3.8.8"
  }
 },
 "nbformat": 4,
 "nbformat_minor": 5
}
