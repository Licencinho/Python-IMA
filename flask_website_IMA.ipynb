{
 "cells": [
  {
   "cell_type": "code",
   "execution_count": 1,
   "id": "4fbb27fa",
   "metadata": {},
   "outputs": [
    {
     "name": "stdout",
     "output_type": "stream",
     "text": [
      "Collecting flask-ngrok\n",
      "  Downloading flask_ngrok-0.0.25-py3-none-any.whl (3.1 kB)\n",
      "Requirement already satisfied: Flask>=0.8 in c:\\users\\alons\\anaconda3\\lib\\site-packages (from flask-ngrok) (1.1.2)\n",
      "Requirement already satisfied: requests in c:\\users\\alons\\anaconda3\\lib\\site-packages (from flask-ngrok) (2.25.1)\n",
      "Requirement already satisfied: itsdangerous>=0.24 in c:\\users\\alons\\anaconda3\\lib\\site-packages (from Flask>=0.8->flask-ngrok) (1.1.0)\n",
      "Requirement already satisfied: Jinja2>=2.10.1 in c:\\users\\alons\\anaconda3\\lib\\site-packages (from Flask>=0.8->flask-ngrok) (2.11.3)\n",
      "Requirement already satisfied: Werkzeug>=0.15 in c:\\users\\alons\\anaconda3\\lib\\site-packages (from Flask>=0.8->flask-ngrok) (1.0.1)\n",
      "Requirement already satisfied: click>=5.1 in c:\\users\\alons\\anaconda3\\lib\\site-packages (from Flask>=0.8->flask-ngrok) (7.1.2)\n",
      "Requirement already satisfied: MarkupSafe>=0.23 in c:\\users\\alons\\anaconda3\\lib\\site-packages (from Jinja2>=2.10.1->Flask>=0.8->flask-ngrok) (1.1.1)\n",
      "Requirement already satisfied: certifi>=2017.4.17 in c:\\users\\alons\\anaconda3\\lib\\site-packages (from requests->flask-ngrok) (2020.12.5)\n",
      "Requirement already satisfied: urllib3<1.27,>=1.21.1 in c:\\users\\alons\\anaconda3\\lib\\site-packages (from requests->flask-ngrok) (1.26.4)\n",
      "Requirement already satisfied: chardet<5,>=3.0.2 in c:\\users\\alons\\anaconda3\\lib\\site-packages (from requests->flask-ngrok) (4.0.0)\n",
      "Requirement already satisfied: idna<3,>=2.5 in c:\\users\\alons\\anaconda3\\lib\\site-packages (from requests->flask-ngrok) (2.10)\n",
      "Installing collected packages: flask-ngrok\n",
      "Successfully installed flask-ngrok-0.0.25\n",
      "Collecting pyngrok\n",
      "  Downloading pyngrok-5.1.0.tar.gz (745 kB)\n",
      "Requirement already satisfied: PyYAML in c:\\users\\alons\\anaconda3\\lib\\site-packages (from pyngrok) (5.4.1)\n",
      "Building wheels for collected packages: pyngrok\n",
      "  Building wheel for pyngrok (setup.py): started\n",
      "  Building wheel for pyngrok (setup.py): finished with status 'done'\n",
      "  Created wheel for pyngrok: filename=pyngrok-5.1.0-py3-none-any.whl size=18990 sha256=25bb7e0ae130ca38de950ce964e2d452b41a6775e263b08b91d92d71c8e87973\n",
      "  Stored in directory: c:\\users\\alons\\appdata\\local\\pip\\cache\\wheels\\87\\a1\\e7\\66d10d257852cd702f8e56be9aa70e74d8ac90f8d951eaa984\n",
      "Successfully built pyngrok\n",
      "Installing collected packages: pyngrok\n",
      "Successfully installed pyngrok-5.1.0\n"
     ]
    }
   ],
   "source": [
    "!pip install flask-ngrok\n",
    "!pip install pyngrok"
   ]
  },
  {
   "cell_type": "code",
   "execution_count": 2,
   "id": "f10c7eb1",
   "metadata": {},
   "outputs": [
    {
     "name": "stdout",
     "output_type": "stream",
     "text": [
      "Downloading ngrok ...\n",
      "Downloading ngrok: 0%\n",
      "Downloading ngrok: 1%\n",
      "Downloading ngrok: 2%\n",
      "Downloading ngrok: 3%\n",
      "Downloading ngrok: 4%\n",
      "Downloading ngrok: 5%\n",
      "Downloading ngrok: 6%\n",
      "Downloading ngrok: 7%\n",
      "Downloading ngrok: 8%\n",
      "Downloading ngrok: 9%\n",
      "Downloading ngrok: 10%\n",
      "Downloading ngrok: 11%\n",
      "Downloading ngrok: 12%\n",
      "Downloading ngrok: 13%\n",
      "Downloading ngrok: 14%\n",
      "Downloading ngrok: 15%\n",
      "Downloading ngrok: 16%\n",
      "Downloading ngrok: 17%\n",
      "Downloading ngrok: 18%\n",
      "Downloading ngrok: 19%\n",
      "Downloading ngrok: 20%\n",
      "Downloading ngrok: 21%\n",
      "Downloading ngrok: 22%\n",
      "Downloading ngrok: 23%\n",
      "Downloading ngrok: 24%\n",
      "Downloading ngrok: 25%\n",
      "Downloading ngrok: 26%\n",
      "Downloading ngrok: 27%\n",
      "Downloading ngrok: 28%\n",
      "Downloading ngrok: 29%\n",
      "Downloading ngrok: 30%\n",
      "Downloading ngrok: 31%\n",
      "Downloading ngrok: 32%\n",
      "Downloading ngrok: 33%\n",
      "Downloading ngrok: 34%\n",
      "Downloading ngrok: 35%\n",
      "Downloading ngrok: 36%\n",
      "Downloading ngrok: 37%\n",
      "Downloading ngrok: 38%\n",
      "Downloading ngrok: 39%\n",
      "Downloading ngrok: 40%\n",
      "Downloading ngrok: 41%\n",
      "Downloading ngrok: 42%\n",
      "Downloading ngrok: 43%\n",
      "Downloading ngrok: 44%\n",
      "Downloading ngrok: 45%\n",
      "Downloading ngrok: 46%\n",
      "Downloading ngrok: 47%\n",
      "Downloading ngrok: 48%\n",
      "Downloading ngrok: 49%\n",
      "Downloading ngrok: 50%\n",
      "Downloading ngrok: 51%\n",
      "Downloading ngrok: 52%\n",
      "Downloading ngrok: 53%\n",
      "Downloading ngrok: 54%\n",
      "Downloading ngrok: 55%\n",
      "Downloading ngrok: 56%\n",
      "Downloading ngrok: 57%\n",
      "Downloading ngrok: 58%\n",
      "Downloading ngrok: 59%\n",
      "Downloading ngrok: 60%\n",
      "Downloading ngrok: 61%\n",
      "Downloading ngrok: 62%\n",
      "Downloading ngrok: 63%\n",
      "Downloading ngrok: 64%\n",
      "Downloading ngrok: 65%\n",
      "Downloading ngrok: 66%\n",
      "Downloading ngrok: 67%\n",
      "Downloading ngrok: 68%\n",
      "Downloading ngrok: 69%\n",
      "Downloading ngrok: 70%\n",
      "Downloading ngrok: 71%\n",
      "Downloading ngrok: 72%\n",
      "Downloading ngrok: 73%\n",
      "Downloading ngrok: 74%\n",
      "Downloading ngrok: 75%\n",
      "Downloading ngrok: 76%\n",
      "Downloading ngrok: 77%\n",
      "Downloading ngrok: 78%\n",
      "Downloading ngrok: 79%\n",
      "Downloading ngrok: 80%\n",
      "Downloading ngrok: 81%\n",
      "Downloading ngrok: 82%\n",
      "Downloading ngrok: 83%\n",
      "Downloading ngrok: 84%\n",
      "Downloading ngrok: 85%\n",
      "Downloading ngrok: 86%\n",
      "Downloading ngrok: 87%\n",
      "Downloading ngrok: 88%\n",
      "Downloading ngrok: 89%\n",
      "Downloading ngrok: 90%\n",
      "Downloading ngrok: 91%\n",
      "Downloading ngrok: 92%\n",
      "Downloading ngrok: 93%\n",
      "Downloading ngrok: 94%\n",
      "Downloading ngrok: 95%\n",
      "Downloading ngrok: 96%\n",
      "Downloading ngrok: 97%\n",
      "Downloading ngrok: 98%\n",
      "Downloading ngrok: 99%\n",
      "Downloading ngrok: 100%\n",
      "                                                                                                    \n",
      "Installing ngrok ... \n",
      "                                                                                                    \n",
      "Authtoken saved to configuration file: C:\\Users\\alons/.ngrok2/ngrok.yml\n"
     ]
    }
   ],
   "source": [
    "!ngrok authtoken \"26BvbMOktqjiQ2Ibfb05r7jzTcL_4UJaagneSjXiB6qeUZXzT\""
   ]
  },
  {
   "cell_type": "code",
   "execution_count": 5,
   "id": "f22cfffe",
   "metadata": {},
   "outputs": [
    {
     "name": "stdout",
     "output_type": "stream",
     "text": [
      " * Serving Flask app \"__main__\" (lazy loading)\n",
      " * Environment: production\n",
      "   WARNING: This is a development server. Do not use it in a production deployment.\n",
      "   Use a production WSGI server instead.\n",
      " * Debug mode: off\n"
     ]
    },
    {
     "name": "stderr",
     "output_type": "stream",
     "text": [
      " * Running on http://127.0.0.1:5000/ (Press CTRL+C to quit)\n"
     ]
    }
   ],
   "source": [
    "from flask import *\n",
    "from flask_ngrok import run_with_ngrok\n",
    "\n",
    "app = Flask(__name__)\n",
    "\n",
    "app_data = {\n",
    "    \"name\":         \"Peter's Starter Template for a Flask Web App\",\n",
    "    \"description\":  \"A basic Flask app using bootstrap for layout\",\n",
    "    \"author\":       \"Peter Simeth\",\n",
    "    \"html_title\":   \"Peter's Starter Template for a Flask Web App\",\n",
    "    \"project_name\": \"Starter Template\",\n",
    "    \"keywords\":     \"flask, webapp, template, basic\"\n",
    "}\n",
    "\n",
    "\n",
    "@app.route('/')\n",
    "def index():\n",
    "    return render_template('index.html', app_data=app_data)\n",
    "\n",
    "run_with_ngrok(app)\n",
    "app.run()"
   ]
  },
  {
   "cell_type": "code",
   "execution_count": null,
   "id": "78f5531e",
   "metadata": {},
   "outputs": [],
   "source": []
  }
 ],
 "metadata": {
  "kernelspec": {
   "display_name": "Python 3",
   "language": "python",
   "name": "python3"
  },
  "language_info": {
   "codemirror_mode": {
    "name": "ipython",
    "version": 3
   },
   "file_extension": ".py",
   "mimetype": "text/x-python",
   "name": "python",
   "nbconvert_exporter": "python",
   "pygments_lexer": "ipython3",
   "version": "3.8.8"
  }
 },
 "nbformat": 4,
 "nbformat_minor": 5
}
